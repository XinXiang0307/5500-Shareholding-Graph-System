{
  "cells": [
    {
      "cell_type": "raw",
      "metadata": {},
      "source": [
        "---\n",
        "title: 金融业与知识图谱\n",
        "date: 2024-04-27\n",
        "author:\n",
        "  - name: Xin Xiang\n",
        "    email: xx123@georgetown.edu\n",
        "    affiliation: \n",
        "      - name: Georgetown University\n",
        "        city: Washington\n",
        "        state: DC\n",
        "        url: https://www.georgetown.edu/\n",
        "abstract: > \n",
        "  得写个250-500字的abstract\n",
        "  简单实现了，，，，，，能够对后续进行，，，有很好的价值。\n",
        "keywords:\n",
        "  - Knowledge Graph\n",
        "  - Risk Management\n",
        "\n",
        "---"
      ]
    },
    {
      "cell_type": "markdown",
      "metadata": {},
      "source": [
        "## Introduction\n",
        "\n",
        "Explain your chosen topic and why it is important for your field.\n",
        "\n",
        "在这个项目里，我选择了图数据结构，并且阐述在传统金融行业面临的困境。\n",
        "\n",
        "通过图结构在金融行业的垂直领域进行深耕，能够挖掘出很多我们无法在普通关系性数据库发现的细节。编织出一张知识图谱，辅助金融行业的高风险管理。\n",
        "\n",
        "## Literature Review\n",
        "\n",
        "### 讨论知识图谱的进化发展历程（简短）\n",
        "\n",
        "### 讨论金融系统（传统银行）里进行数据分析的复杂性和重要性（简短）\n",
        "\n",
        "### 讨论知识图谱在金融行业的应用（重点）\n",
        "\n",
        "\n",
        "## Example : Simple Shareholding Graph System\n",
        "\n",
        "### Description\n",
        "\n",
        "\n",
        "\n",
        "### Data source \n",
        "\n",
        "\n",
        "`person` can hold a `corp` in {share} %\n",
        "\n",
        "`person` can be relative with another `person`\n",
        "\n",
        "`corp` can hold another `corp` in {share} %\n",
        "\n",
        "`corp` can be a branch of another `corp`\n",
        "\n",
        "`person` can be as a role of a `corp`\n",
        "\n",
        "\n",
        "\n",
        "### Code\n",
        "\n",
        "#### Data preparation\n",
        "\n",
        "因为原始数据集是放进图数据库直接存储，可以在图数据库中直接设置tag和edge。而我在example中需要自己实现graph类，所以需要对原始数据集进行预处理。"
      ]
    },
    {
      "cell_type": "code",
      "execution_count": 29,
      "metadata": {},
      "outputs": [
        {
          "name": "stdout",
          "output_type": "stream",
          "text": [
            "Collecting faker\n",
            "  Downloading Faker-24.14.0-py3-none-any.whl (1.8 MB)\n",
            "\u001b[2K     \u001b[90m━━━━━━━━━━━━━━━━━━━━━━━━━━━━━━━━━━━━━━━━\u001b[0m \u001b[32m1.8/1.8 MB\u001b[0m \u001b[31m3.2 MB/s\u001b[0m eta \u001b[36m0:00:00\u001b[0m00:01\u001b[0m00:01\u001b[0m\n",
            "\u001b[?25hRequirement already satisfied: python-dateutil>=2.4 in /Users/xiangxin/miniforge3/envs/anly-580/lib/python3.9/site-packages (from faker) (2.8.2)\n",
            "Requirement already satisfied: six>=1.5 in /Users/xiangxin/miniforge3/envs/anly-580/lib/python3.9/site-packages (from python-dateutil>=2.4->faker) (1.16.0)\n",
            "Installing collected packages: faker\n",
            "Successfully installed faker-24.14.0\n",
            "Collecting pydbgen\n",
            "  Downloading pydbgen-1.0.5-py3-none-any.whl (81 kB)\n",
            "\u001b[2K     \u001b[90m━━━━━━━━━━━━━━━━━━━━━━━━━━━━━━━━━━━━━━━━\u001b[0m \u001b[32m81.3/81.3 kB\u001b[0m \u001b[31m1.2 MB/s\u001b[0m eta \u001b[36m0:00:00\u001b[0ma \u001b[36m0:00:01\u001b[0m\n",
            "\u001b[?25hRequirement already satisfied: Pandas in /Users/xiangxin/miniforge3/envs/anly-580/lib/python3.9/site-packages (from pydbgen) (1.4.3)\n",
            "Requirement already satisfied: Faker in /Users/xiangxin/miniforge3/envs/anly-580/lib/python3.9/site-packages (from pydbgen) (24.14.0)\n",
            "Requirement already satisfied: six in /Users/xiangxin/miniforge3/envs/anly-580/lib/python3.9/site-packages (from pydbgen) (1.16.0)\n",
            "Requirement already satisfied: python-dateutil>=2.4 in /Users/xiangxin/miniforge3/envs/anly-580/lib/python3.9/site-packages (from Faker->pydbgen) (2.8.2)\n",
            "Requirement already satisfied: pytz>=2020.1 in /Users/xiangxin/miniforge3/envs/anly-580/lib/python3.9/site-packages (from Pandas->pydbgen) (2022.1)\n",
            "Requirement already satisfied: numpy>=1.20.0 in /Users/xiangxin/miniforge3/envs/anly-580/lib/python3.9/site-packages (from Pandas->pydbgen) (1.26.2)\n",
            "Installing collected packages: pydbgen\n",
            "Successfully installed pydbgen-1.0.5\n"
          ]
        }
      ],
      "source": [
        "! pip install faker\n",
        "! pip install pydbgen"
      ]
    },
    {
      "cell_type": "code",
      "execution_count": 109,
      "metadata": {},
      "outputs": [
        {
          "name": "stdout",
          "output_type": "stream",
          "text": [
            "  corp_id                        corp_name\n",
            "0     c_0  Leonard, Robertson and Williams\n",
            "1     c_1           Brown, Turner and Horn\n",
            "2     c_2                   Wright-Mahoney\n",
            "3     c_3                  Mcdowell-Ortega\n",
            "4     c_4         Jones, Cook and Mckinney\n",
            "5     c_5      Bennett, Brown and Matthews\n",
            "  person_id corp_id  share_per\n",
            "0       p_4     c_1         16\n",
            "1       p_6     c_1         87\n",
            "2       p_4     c_2          1\n",
            "3       p_7     c_4         65\n",
            "4       p_5     c_2         88\n",
            "5       p_3     c_1         33\n"
          ]
        },
        {
          "data": {
            "text/plain": [
              "\"\\n# [7] person_corp_role.csv\\n# define the role of person id in the corporation id from the csv file\\npath7 = './data/person_corp_role.csv'\\ncolumn_names = ['person_id', 'corp_id','role']\\nperson_corp_role_df = pd.read_csv(path7, header=None, names=column_names)\\nprint(person_corp_role_df.head(6))\\n\""
            ]
          },
          "execution_count": 109,
          "metadata": {},
          "output_type": "execute_result"
        }
      ],
      "source": [
        "import pandas as pd\n",
        "\n",
        "# [1] corp.csv\n",
        "# define the corporation id and name from the csv file\n",
        "path1 = './data/corp.csv'\n",
        "# load the csv into a DataFrame, and specify the column names\n",
        "corp_df = pd.read_csv(path1)\n",
        "print(corp_df.head(6))\n",
        "\n",
        "# [2] person.csv\n",
        "# define the person id and name from the csv file\n",
        "path2 = './data/person.csv'\n",
        "person_df = pd.read_csv(path2)\n",
        "#print(person_df.head(6))\n",
        "\n",
        "# [3] person_rel.csv\n",
        "# define the relationship degree of person id1 and id2 from the csv file\n",
        "path3 = './data/person_rel.csv'\n",
        "column_names = ['person_id1', 'person_id2','rel_degree']\n",
        "person_rel_df = pd.read_csv(path3, header=None, names=column_names)\n",
        "#print(person_rel_df.head(6))\n",
        "\n",
        "# [4] corp_rel.csv\n",
        "# define the relationship of corporation id1 and id2 from the csv file\n",
        "path4 = './data/corp_rel.csv'\n",
        "column_names = ['corp_id1', 'corp_id2']\n",
        "corp_rel_df = pd.read_csv(path4, header=None, names=column_names)\n",
        "#print(corp_rel_df.head(6))\n",
        "\n",
        "# [5] corp_share.csv\n",
        "# define the holdsharing of corporation id1 to id2 from the csv file\n",
        "path5 = './data/corp_share.csv'\n",
        "column_names = ['corp_id1', 'corp_id2','share_per']\n",
        "corp_share_df = pd.read_csv(path5, header=None, names=column_names)\n",
        "#print(corp_share_df.head(6))\n",
        "\n",
        "# [6] person_corp_share.csv\n",
        "# define the holdsharing of person id to the corporation id from the csv file\n",
        "path6 = './data/person_corp_share.csv'\n",
        "column_names = ['person_id', 'corp_id','share_per']\n",
        "person_corp_share_df = pd.read_csv(path6, header=None, names=column_names)\n",
        "print(person_corp_share_df.head(6))\n",
        "\n",
        "'''\n",
        "# [7] person_corp_role.csv\n",
        "# define the role of person id in the corporation id from the csv file\n",
        "path7 = './data/person_corp_role.csv'\n",
        "column_names = ['person_id', 'corp_id','role']\n",
        "person_corp_role_df = pd.read_csv(path7, header=None, names=column_names)\n",
        "print(person_corp_role_df.head(6))\n",
        "'''\n"
      ]
    },
    {
      "cell_type": "markdown",
      "metadata": {},
      "source": [
        "对自己写的图数据库的代码进行解释。\n",
        "参考老师的hw123\n",
        "\n",
        "The SelfdefinedGraph Class\n",
        "Each of the bullt point here represents an element of this class.\n",
        "- `__init__(self)`. This "
      ]
    },
    {
      "cell_type": "code",
      "execution_count": 110,
      "metadata": {},
      "outputs": [],
      "source": [
        "# Python code to illustrate the example\n",
        "import networkx as nx\n",
        "import matplotlib.pyplot as plt\n",
        "from scipy import sparse\n",
        "from scipy.sparse import coo_matrix\n",
        "\n",
        "class SelfdefinedGraph:\n",
        "    def __init__(self):\n",
        "        self.adjacency_list = {}\n",
        "        self.G = nx.DiGraph()\n",
        "\n",
        "    def add_vertex(self, vertex, vertex_type):\n",
        "        if vertex not in self.adjacency_list:\n",
        "            self.adjacency_list[vertex] = {'type': vertex_type, 'edges': []}\n",
        "            self.G.add_node(vertex, type=vertex_type)\n",
        "\n",
        "    def add_edge(self, from_vertex, to_vertex, relationship_type, weight=None):\n",
        "        if from_vertex in self.adjacency_list:\n",
        "            self.adjacency_list[from_vertex]['edges'].append({\n",
        "                'to': to_vertex,\n",
        "                'type': relationship_type,\n",
        "                'weight': weight\n",
        "            })\n",
        "            self.G.add_edge(from_vertex, to_vertex, weight=weight, type=relationship_type)\n",
        "\n",
        "    def remove_vertex(self, vertex):\n",
        "        if vertex in self.adjacency_list:\n",
        "            # Remove all edges to this vertex\n",
        "            for v in self.adjacency_list:\n",
        "                self.adjacency_list[v]['edges'] = [e for e in self.adjacency_list[v]['edges'] if e['to'] != vertex]\n",
        "            # Remove the vertex itself\n",
        "            del self.adjacency_list[vertex]\n",
        "\n",
        "    def remove_edge(self, from_vertex, to_vertex):\n",
        "        if from_vertex in self.adjacency_list:\n",
        "            self.adjacency_list[from_vertex]['edges'] = [\n",
        "                e for e in self.adjacency_list[from_vertex]['edges'] if e['to'] != to_vertex\n",
        "            ]\n",
        "\n",
        "    def update_edge(self, from_vertex, to_vertex, new_weight):\n",
        "        if from_vertex in self.adjacency_list:\n",
        "            for edge in self.adjacency_list[from_vertex]['edges']:\n",
        "                if edge['to'] == to_vertex:\n",
        "                    edge['weight'] = new_weight\n",
        "\n",
        "    def query_vertices_by_type(self, vertex_type):\n",
        "        # Return vertices of a specific type\n",
        "        return [vertex for vertex, properties in self.adjacency_list.items() if properties['type'] == vertex_type]\n",
        "\n",
        "    def query_edges_by_type(self, from_vertex, edge_type):\n",
        "        # Return edges of a specific type from a given vertex\n",
        "        if from_vertex in self.adjacency_list:\n",
        "            return [edge for edge in self.adjacency_list[from_vertex]['edges'] if edge['type'] == edge_type]\n",
        "\n",
        "    def query_edges_by_weight(self, from_vertex, min_weight, max_weight):\n",
        "        # Return edges within a certain weight range from a given vertex\n",
        "        if from_vertex in self.adjacency_list:\n",
        "            return [edge for edge in self.adjacency_list[from_vertex]['edges'] if min_weight <= edge['weight'] <= max_weight]\n",
        "\n",
        "    def print_adjacency_list(self):\n",
        "        adjacency_list = self.adjacency_list\n",
        "        return adjacency_list"
      ]
    },
    {
      "cell_type": "code",
      "execution_count": 115,
      "metadata": {},
      "outputs": [],
      "source": [
        "def visualize_graph(adjacency_list):\n",
        "    G = nx.DiGraph()\n",
        "    # Add nodes with different styles if needed\n",
        "    for node, properties in adjacency_list.items():\n",
        "        G.add_node(node, type=properties['type'])\n",
        "\n",
        "    # Add edges with different colors based on the relationship type\n",
        "    edge_colors = []\n",
        "    for node, properties in adjacency_list.items():\n",
        "        for edge in properties['edges']:\n",
        "            G.add_edge(node, edge['to'], weight=edge['weight'])\n",
        "            if edge['type'] == 'holds':\n",
        "                edge_colors.append('blue')  # Blue for financial relationships\n",
        "            elif edge['type'] == 'relative':\n",
        "                edge_colors.append('green')  # Green for family relationships\n",
        "            elif edge['type'] == 'branch':\n",
        "                edge_colors.append('red')  # Red for roles\n",
        "\n",
        "    pos = nx.spring_layout(G)  # Positions for all nodes\n",
        "    nx.draw(G, pos, with_labels=True, node_color='lightblue', edge_color=edge_colors, width=2, node_size=20)\n",
        "    #labels = nx.get_edge_attributes(G, 'weight')\n",
        "    #nx.draw_networkx_edge_labels(G, pos, edge_labels=labels)\n",
        "    plt.title('Graph Visualization of Relationships')\n",
        "    plt.show()"
      ]
    },
    {
      "cell_type": "code",
      "execution_count": 116,
      "metadata": {},
      "outputs": [
        {
          "data": {
            "text/plain": [
              "\"\\nfor _, row in person_corp_role_df.iterrows():\\n    graph.add_edge(row['person_id'], row['corp_id'], 'roles', row['role'])\\n\""
            ]
          },
          "execution_count": 116,
          "metadata": {},
          "output_type": "execute_result"
        }
      ],
      "source": [
        "# Initialize graph\n",
        "graph = SelfdefinedGraph()\n",
        "\n",
        "# Add persons and corps as vertices\n",
        "for _, row in person_df.iterrows():\n",
        "    graph.add_vertex(row['person_id'], 'person')\n",
        "for _, row in corp_df.iterrows():\n",
        "    graph.add_vertex(row['corp_id'], 'corp')\n",
        "\n",
        "# Add relationship as edges\n",
        "for _, row in person_corp_share_df.iterrows():\n",
        "    graph.add_edge(row['person_id'], row['corp_id'], 'holds', row['share_per'])\n",
        "\n",
        "for _, row in person_rel_df.iterrows():\n",
        "    graph.add_edge(row['person_id1'], row['person_id2'], 'relative', row['rel_degree'])\n",
        "\n",
        "for _, row in corp_rel_df.iterrows():\n",
        "    graph.add_edge(row['corp_id1'], row['corp_id2'], 'branch')\n",
        "\n",
        "for _, row in corp_share_df.iterrows():\n",
        "    graph.add_edge(row['corp_id1'], row['corp_id2'], 'holds',row['share_per'])\n",
        "\n",
        "'''\n",
        "for _, row in person_corp_role_df.iterrows():\n",
        "    graph.add_edge(row['person_id'], row['corp_id'], 'roles', row['role'])\n",
        "'''"
      ]
    },
    {
      "cell_type": "code",
      "execution_count": 117,
      "metadata": {},
      "outputs": [
        {
          "data": {
            "text/plain": [
              "{'p_0': {'type': 'person',\n",
              "  'edges': [{'to': 'c_0', 'type': 'holds', 'weight': 65},\n",
              "   {'to': 'c_4', 'type': 'holds', 'weight': 82},\n",
              "   {'to': 'p_1', 'type': 'relative', 'weight': 2}]},\n",
              " 'p_1': {'type': 'person',\n",
              "  'edges': [{'to': 'c_3', 'type': 'holds', 'weight': 77},\n",
              "   {'to': 'c_5', 'type': 'holds', 'weight': 16}]},\n",
              " 'p_2': {'type': 'person',\n",
              "  'edges': [{'to': 'c_5', 'type': 'holds', 'weight': 4},\n",
              "   {'to': 'p_4', 'type': 'relative', 'weight': 1}]},\n",
              " 'p_3': {'type': 'person',\n",
              "  'edges': [{'to': 'c_1', 'type': 'holds', 'weight': 33},\n",
              "   {'to': 'c_5', 'type': 'holds', 'weight': 92},\n",
              "   {'to': 'c_1', 'type': 'holds', 'weight': 99},\n",
              "   {'to': 'p_2', 'type': 'relative', 'weight': 1}]},\n",
              " 'p_4': {'type': 'person',\n",
              "  'edges': [{'to': 'c_1', 'type': 'holds', 'weight': 16},\n",
              "   {'to': 'c_2', 'type': 'holds', 'weight': 1},\n",
              "   {'to': 'c_4', 'type': 'holds', 'weight': 70}]},\n",
              " 'p_5': {'type': 'person',\n",
              "  'edges': [{'to': 'c_2', 'type': 'holds', 'weight': 88},\n",
              "   {'to': 'p_4', 'type': 'relative', 'weight': 3}]},\n",
              " 'p_6': {'type': 'person',\n",
              "  'edges': [{'to': 'c_1', 'type': 'holds', 'weight': 87},\n",
              "   {'to': 'c_2', 'type': 'holds', 'weight': 52}]},\n",
              " 'p_7': {'type': 'person',\n",
              "  'edges': [{'to': 'c_4', 'type': 'holds', 'weight': 65}]},\n",
              " 'c_0': {'type': 'corp',\n",
              "  'edges': [{'to': 'c_4', 'type': 'branch', 'weight': None},\n",
              "   {'to': 'c_5', 'type': 'branch', 'weight': None},\n",
              "   {'to': 'c_5', 'type': 'branch', 'weight': None},\n",
              "   {'to': 'c_0', 'type': 'holds', 'weight': 20},\n",
              "   {'to': 'c_4', 'type': 'holds', 'weight': 55}]},\n",
              " 'c_1': {'type': 'corp',\n",
              "  'edges': [{'to': 'c_2', 'type': 'branch', 'weight': None},\n",
              "   {'to': 'c_3', 'type': 'holds', 'weight': 78},\n",
              "   {'to': 'c_1', 'type': 'holds', 'weight': 64}]},\n",
              " 'c_2': {'type': 'corp',\n",
              "  'edges': [{'to': 'c_3', 'type': 'branch', 'weight': None},\n",
              "   {'to': 'c_3', 'type': 'branch', 'weight': None},\n",
              "   {'to': 'c_0', 'type': 'holds', 'weight': 50}]},\n",
              " 'c_3': {'type': 'corp',\n",
              "  'edges': [{'to': 'c_5', 'type': 'holds', 'weight': 55},\n",
              "   {'to': 'c_4', 'type': 'holds', 'weight': 60}]},\n",
              " 'c_4': {'type': 'corp',\n",
              "  'edges': [{'to': 'c_2', 'type': 'branch', 'weight': None},\n",
              "   {'to': 'c_2', 'type': 'branch', 'weight': None},\n",
              "   {'to': 'c_3', 'type': 'branch', 'weight': None},\n",
              "   {'to': 'c_2', 'type': 'holds', 'weight': 36},\n",
              "   {'to': 'c_1', 'type': 'holds', 'weight': 94},\n",
              "   {'to': 'c_3', 'type': 'holds', 'weight': 94}]},\n",
              " 'c_5': {'type': 'corp',\n",
              "  'edges': [{'to': 'c_2', 'type': 'branch', 'weight': None}]}}"
            ]
          },
          "execution_count": 117,
          "metadata": {},
          "output_type": "execute_result"
        }
      ],
      "source": [
        "graph.print_adjacency_list()"
      ]
    },
    {
      "cell_type": "code",
      "execution_count": 96,
      "metadata": {},
      "outputs": [
        {
          "name": "stdout",
          "output_type": "stream",
          "text": [
            "[{'to': 'p_4', 'type': 'relative', 'weight': 3}]\n"
          ]
        }
      ],
      "source": [
        "#print(graph.query_vertices_by_type('person'))\n",
        "print(graph.query_edges_by_type('p_5', 'relative'))"
      ]
    },
    {
      "cell_type": "code",
      "execution_count": 104,
      "metadata": {},
      "outputs": [
        {
          "data": {
            "image/png": "[encoded data removed]",
            "text/plain": [
              "<Figure size 640x480 with 1 Axes>"
            ]
          },
          "metadata": {},
          "output_type": "display_data"
        }
      ],
      "source": [
        "import networkx as nx\n",
        "import matplotlib.pyplot as plt\n",
        "\n",
        "G_test = nx.DiGraph()\n",
        "G_test.add_node(\"A\",type = 'person')\n",
        "G_test.add_node(\"B\",type = 'corp')\n",
        "G_test.add_edge(\"A\", \"B\")\n",
        "pos_test = nx.circular_layout(G_test)\n",
        "nx.draw(G_test, pos_test, with_labels=True)\n",
        "plt.show()"
      ]
    },
    {
      "cell_type": "code",
      "execution_count": 120,
      "metadata": {},
      "outputs": [],
      "source": [
        "adjacency_list = graph.adjacency_list\n",
        "#visualize_graph(adjacency_list=adjacency_list)"
      ]
    },
    {
      "cell_type": "code",
      "execution_count": 121,
      "metadata": {},
      "outputs": [
        {
          "name": "stdout",
          "output_type": "stream",
          "text": [
            "holds\n",
            "holds\n",
            "relative\n",
            "holds\n",
            "holds\n",
            "holds\n",
            "relative\n",
            "holds\n",
            "holds\n",
            "holds\n",
            "relative\n",
            "holds\n",
            "holds\n",
            "holds\n",
            "holds\n",
            "relative\n",
            "holds\n",
            "holds\n",
            "holds\n",
            "branch\n",
            "branch\n",
            "branch\n",
            "holds\n",
            "holds\n",
            "branch\n",
            "holds\n",
            "holds\n",
            "branch\n",
            "branch\n",
            "holds\n",
            "holds\n",
            "holds\n",
            "branch\n",
            "branch\n",
            "branch\n",
            "holds\n",
            "holds\n",
            "holds\n",
            "branch\n"
          ]
        }
      ],
      "source": [
        "for node, properties in adjacency_list.items():\n",
        "        for edge in properties['edges']:\n",
        "                print(edge['type'])"
      ]
    },
    {
      "cell_type": "markdown",
      "metadata": {},
      "source": [
        "## Conclusion\n",
        "\n",
        "这种图结构出来的知识图谱可以运用到金融行业里，比如说进行客户分群，精准提升金融行业\n",
        "\n",
        "## References {.unnumbered}\n",
        "\n",
        "::: {#refs}\n",
        ":::"
      ]
    }
  ],
  "metadata": {
    "kernelspec": {
      "display_name": "anly-580",
      "language": "python",
      "name": "anly-580"
    },
    "language_info": {
      "codemirror_mode": {
        "name": "ipython",
        "version": 3
      },
      "file_extension": ".py",
      "mimetype": "text/x-python",
      "name": "python",
      "nbconvert_exporter": "python",
      "pygments_lexer": "ipython3",
      "version": "3.9.13"
    }
  },
  "nbformat": 4,
  "nbformat_minor": 4
}
